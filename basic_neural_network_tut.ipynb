{
  "nbformat": 4,
  "nbformat_minor": 0,
  "metadata": {
    "colab": {
      "name": "basic_neural_network_tut.ipynb",
      "provenance": [],
      "collapsed_sections": [],
      "authorship_tag": "ABX9TyOKNbLOma3SEdshaZvlRk2K",
      "include_colab_link": true
    },
    "kernelspec": {
      "name": "python3",
      "display_name": "Python 3"
    },
    "language_info": {
      "name": "python"
    }
  },
  "cells": [
    {
      "cell_type": "markdown",
      "metadata": {
        "id": "view-in-github",
        "colab_type": "text"
      },
      "source": [
        "<a href=\"https://colab.research.google.com/github/somenath203/BMI-Calculator/blob/main/basic_neural_network_tut.ipynb\" target=\"_parent\"><img src=\"https://colab.research.google.com/assets/colab-badge.svg\" alt=\"Open In Colab\"/></a>"
      ]
    },
    {
      "cell_type": "code",
      "metadata": {
        "id": "DTuySSNavyPq"
      },
      "source": [
        "# loading packages\n",
        "\n",
        "import numpy as np\n",
        "import pandas as pd\n",
        "import tensorflow as tf"
      ],
      "execution_count": null,
      "outputs": []
    },
    {
      "cell_type": "code",
      "metadata": {
        "colab": {
          "base_uri": "https://localhost:8080/",
          "height": 35
        },
        "id": "_riyBrl8z_KV",
        "outputId": "32a96b53-c142-4348-8079-0b268278e363"
      },
      "source": [
        "tf.__version__"
      ],
      "execution_count": null,
      "outputs": [
        {
          "output_type": "execute_result",
          "data": {
            "application/vnd.google.colaboratory.intrinsic+json": {
              "type": "string"
            },
            "text/plain": [
              "'2.6.0'"
            ]
          },
          "metadata": {},
          "execution_count": 2
        }
      ]
    },
    {
      "cell_type": "code",
      "metadata": {
        "id": "I2XsvVi30dGB"
      },
      "source": [
        "# loading the dataset\n",
        "\n",
        "dataset = pd.read_excel(\"Folds5x2_pp.xlsx\")\n",
        "\n",
        "X = dataset.iloc[:, :-1].values \n",
        "y = dataset.iloc[:, -1].values"
      ],
      "execution_count": null,
      "outputs": []
    },
    {
      "cell_type": "code",
      "metadata": {
        "colab": {
          "base_uri": "https://localhost:8080/"
        },
        "id": "uGhB_97l4VO0",
        "outputId": "3490392e-0e3a-4e29-e437-7a1c26cbae0e"
      },
      "source": [
        "print(X)\n",
        "print(y)"
      ],
      "execution_count": null,
      "outputs": [
        {
          "output_type": "stream",
          "name": "stdout",
          "text": [
            "[[  14.96   41.76 1024.07   73.17]\n",
            " [  25.18   62.96 1020.04   59.08]\n",
            " [   5.11   39.4  1012.16   92.14]\n",
            " ...\n",
            " [  31.32   74.33 1012.92   36.48]\n",
            " [  24.48   69.45 1013.86   62.39]\n",
            " [  21.6    62.52 1017.23   67.87]]\n",
            "[463.26 444.37 488.56 ... 429.57 435.74 453.28]\n"
          ]
        }
      ]
    },
    {
      "cell_type": "code",
      "metadata": {
        "id": "G61QAbM-4jOU"
      },
      "source": [
        "# splitting the data into training set and testing set\n",
        "\n",
        "from sklearn.model_selection import train_test_split\n",
        "\n",
        "X_train, X_test, y_train, y_test = train_test_split(X, y, test_size=0.2, random_state = 0)"
      ],
      "execution_count": null,
      "outputs": []
    },
    {
      "cell_type": "code",
      "metadata": {
        "id": "ef1X1iXP6dqi"
      },
      "source": [
        "# initialzing the artificial neural network\n",
        "\n",
        "ann = tf.keras.models.Sequential()"
      ],
      "execution_count": null,
      "outputs": []
    },
    {
      "cell_type": "code",
      "metadata": {
        "id": "AEMzcN8B82oN"
      },
      "source": [
        "# adding the input layer and the first hidden layer\n",
        "\n",
        "ann.add(tf.keras.layers.Dense(units=6, activation='relu'))"
      ],
      "execution_count": null,
      "outputs": []
    },
    {
      "cell_type": "code",
      "metadata": {
        "id": "dtYC7qcb_Mk1"
      },
      "source": [
        "# adding the second hiddden layer\n",
        "\n",
        "ann.add(tf.keras.layers.Dense(units=6, activation='relu'))"
      ],
      "execution_count": null,
      "outputs": []
    },
    {
      "cell_type": "code",
      "metadata": {
        "id": "k6skkpty_2Wh"
      },
      "source": [
        "# adding the output layer\n",
        "\n",
        "ann.add(tf.keras.layers.Dense(units=1))"
      ],
      "execution_count": null,
      "outputs": []
    },
    {
      "cell_type": "code",
      "metadata": {
        "id": "SjVWbYLOCh1E"
      },
      "source": [
        "# compiling the artificial neural network\n",
        "\n",
        "ann.compile(optimizer='adam', loss='mean_squared_error')"
      ],
      "execution_count": null,
      "outputs": []
    },
    {
      "cell_type": "code",
      "metadata": {
        "colab": {
          "base_uri": "https://localhost:8080/"
        },
        "id": "fSnHI-kiES_a",
        "outputId": "c3fc9f91-bc19-4950-e2d7-fcda9041ec07"
      },
      "source": [
        "# training the artificial neural network model on the training set\n",
        "\n",
        "ann.fit(X_train, y_train, batch_size=32, epochs=100)"
      ],
      "execution_count": null,
      "outputs": [
        {
          "output_type": "stream",
          "name": "stdout",
          "text": [
            "Epoch 1/100\n",
            "240/240 [==============================] - 1s 1ms/step - loss: 105168.3984\n",
            "Epoch 2/100\n",
            "240/240 [==============================] - 0s 1ms/step - loss: 792.0847\n",
            "Epoch 3/100\n",
            "240/240 [==============================] - 0s 1ms/step - loss: 196.5844\n",
            "Epoch 4/100\n",
            "240/240 [==============================] - 0s 1ms/step - loss: 194.5566\n",
            "Epoch 5/100\n",
            "240/240 [==============================] - 0s 1ms/step - loss: 192.2921\n",
            "Epoch 6/100\n",
            "240/240 [==============================] - 0s 1ms/step - loss: 189.7090\n",
            "Epoch 7/100\n",
            "240/240 [==============================] - 0s 1ms/step - loss: 186.3763\n",
            "Epoch 8/100\n",
            "240/240 [==============================] - 0s 1ms/step - loss: 182.8030\n",
            "Epoch 9/100\n",
            "240/240 [==============================] - 0s 1ms/step - loss: 178.9122\n",
            "Epoch 10/100\n",
            "240/240 [==============================] - 0s 1ms/step - loss: 174.2837\n",
            "Epoch 11/100\n",
            "240/240 [==============================] - 0s 1ms/step - loss: 169.6339\n",
            "Epoch 12/100\n",
            "240/240 [==============================] - 0s 1ms/step - loss: 164.4037\n",
            "Epoch 13/100\n",
            "240/240 [==============================] - 0s 1ms/step - loss: 158.4387\n",
            "Epoch 14/100\n",
            "240/240 [==============================] - 0s 1ms/step - loss: 152.3705\n",
            "Epoch 15/100\n",
            "240/240 [==============================] - 0s 1ms/step - loss: 145.7899\n",
            "Epoch 16/100\n",
            "240/240 [==============================] - 0s 1ms/step - loss: 139.0337\n",
            "Epoch 17/100\n",
            "240/240 [==============================] - 0s 1ms/step - loss: 131.0336\n",
            "Epoch 18/100\n",
            "240/240 [==============================] - 0s 1ms/step - loss: 124.1121\n",
            "Epoch 19/100\n",
            "240/240 [==============================] - 0s 1ms/step - loss: 115.8565\n",
            "Epoch 20/100\n",
            "240/240 [==============================] - 0s 1ms/step - loss: 107.7466\n",
            "Epoch 21/100\n",
            "240/240 [==============================] - 0s 1ms/step - loss: 100.4886\n",
            "Epoch 22/100\n",
            "240/240 [==============================] - 0s 1ms/step - loss: 92.4809\n",
            "Epoch 23/100\n",
            "240/240 [==============================] - 0s 1ms/step - loss: 84.8420\n",
            "Epoch 24/100\n",
            "240/240 [==============================] - 0s 1ms/step - loss: 76.9199\n",
            "Epoch 25/100\n",
            "240/240 [==============================] - 0s 1ms/step - loss: 70.1292\n",
            "Epoch 26/100\n",
            "240/240 [==============================] - 0s 1ms/step - loss: 63.9806\n",
            "Epoch 27/100\n",
            "240/240 [==============================] - 0s 1ms/step - loss: 58.6065\n",
            "Epoch 28/100\n",
            "240/240 [==============================] - 0s 1ms/step - loss: 53.6505\n",
            "Epoch 29/100\n",
            "240/240 [==============================] - 0s 1ms/step - loss: 48.8925\n",
            "Epoch 30/100\n",
            "240/240 [==============================] - 0s 1ms/step - loss: 45.4113\n",
            "Epoch 31/100\n",
            "240/240 [==============================] - 0s 1ms/step - loss: 42.4937\n",
            "Epoch 32/100\n",
            "240/240 [==============================] - 0s 1ms/step - loss: 40.8012\n",
            "Epoch 33/100\n",
            "240/240 [==============================] - 0s 1ms/step - loss: 38.8915\n",
            "Epoch 34/100\n",
            "240/240 [==============================] - 0s 1ms/step - loss: 36.9910\n",
            "Epoch 35/100\n",
            "240/240 [==============================] - 0s 1ms/step - loss: 35.9305\n",
            "Epoch 36/100\n",
            "240/240 [==============================] - 0s 1ms/step - loss: 34.7817\n",
            "Epoch 37/100\n",
            "240/240 [==============================] - 0s 1ms/step - loss: 34.3939\n",
            "Epoch 38/100\n",
            "240/240 [==============================] - 0s 1ms/step - loss: 33.1933\n",
            "Epoch 39/100\n",
            "240/240 [==============================] - 0s 1ms/step - loss: 32.3581\n",
            "Epoch 40/100\n",
            "240/240 [==============================] - 0s 1ms/step - loss: 32.1442\n",
            "Epoch 41/100\n",
            "240/240 [==============================] - 0s 1ms/step - loss: 31.0937\n",
            "Epoch 42/100\n",
            "240/240 [==============================] - 0s 1ms/step - loss: 31.2743\n",
            "Epoch 43/100\n",
            "240/240 [==============================] - 0s 1ms/step - loss: 30.1714\n",
            "Epoch 44/100\n",
            "240/240 [==============================] - 0s 1ms/step - loss: 30.0021\n",
            "Epoch 45/100\n",
            "240/240 [==============================] - 0s 1ms/step - loss: 29.1492\n",
            "Epoch 46/100\n",
            "240/240 [==============================] - 0s 1ms/step - loss: 30.1085\n",
            "Epoch 47/100\n",
            "240/240 [==============================] - 0s 1ms/step - loss: 28.6546\n",
            "Epoch 48/100\n",
            "240/240 [==============================] - 0s 1ms/step - loss: 28.4726\n",
            "Epoch 49/100\n",
            "240/240 [==============================] - 0s 1ms/step - loss: 28.3192\n",
            "Epoch 50/100\n",
            "240/240 [==============================] - 0s 1ms/step - loss: 28.1442\n",
            "Epoch 51/100\n",
            "240/240 [==============================] - 0s 1ms/step - loss: 28.4594\n",
            "Epoch 52/100\n",
            "240/240 [==============================] - 0s 1ms/step - loss: 27.3806\n",
            "Epoch 53/100\n",
            "240/240 [==============================] - 0s 1ms/step - loss: 27.3587\n",
            "Epoch 54/100\n",
            "240/240 [==============================] - 0s 1ms/step - loss: 27.5538\n",
            "Epoch 55/100\n",
            "240/240 [==============================] - 0s 1ms/step - loss: 27.1902\n",
            "Epoch 56/100\n",
            "240/240 [==============================] - 0s 1ms/step - loss: 27.3811\n",
            "Epoch 57/100\n",
            "240/240 [==============================] - 0s 1ms/step - loss: 26.9292\n",
            "Epoch 58/100\n",
            "240/240 [==============================] - 0s 1ms/step - loss: 27.7660\n",
            "Epoch 59/100\n",
            "240/240 [==============================] - 0s 1ms/step - loss: 27.3120\n",
            "Epoch 60/100\n",
            "240/240 [==============================] - 0s 1ms/step - loss: 27.3104\n",
            "Epoch 61/100\n",
            "240/240 [==============================] - 0s 1ms/step - loss: 26.7899\n",
            "Epoch 62/100\n",
            "240/240 [==============================] - 0s 1ms/step - loss: 26.8644\n",
            "Epoch 63/100\n",
            "240/240 [==============================] - 0s 1ms/step - loss: 27.1001\n",
            "Epoch 64/100\n",
            "240/240 [==============================] - 0s 1ms/step - loss: 26.6968\n",
            "Epoch 65/100\n",
            "240/240 [==============================] - 0s 1ms/step - loss: 27.2043\n",
            "Epoch 66/100\n",
            "240/240 [==============================] - 0s 1ms/step - loss: 27.0599\n",
            "Epoch 67/100\n",
            "240/240 [==============================] - 0s 1ms/step - loss: 26.7380\n",
            "Epoch 68/100\n",
            "240/240 [==============================] - 0s 1ms/step - loss: 26.7008\n",
            "Epoch 69/100\n",
            "240/240 [==============================] - 0s 1ms/step - loss: 26.5670\n",
            "Epoch 70/100\n",
            "240/240 [==============================] - 0s 1ms/step - loss: 26.9007\n",
            "Epoch 71/100\n",
            "240/240 [==============================] - 0s 1ms/step - loss: 26.6477\n",
            "Epoch 72/100\n",
            "240/240 [==============================] - 0s 1ms/step - loss: 26.3111\n",
            "Epoch 73/100\n",
            "240/240 [==============================] - 0s 1ms/step - loss: 26.7036\n",
            "Epoch 74/100\n",
            "240/240 [==============================] - 0s 1ms/step - loss: 27.0286\n",
            "Epoch 75/100\n",
            "240/240 [==============================] - 0s 1ms/step - loss: 26.6142\n",
            "Epoch 76/100\n",
            "240/240 [==============================] - 0s 1ms/step - loss: 27.0714\n",
            "Epoch 77/100\n",
            "240/240 [==============================] - 0s 1ms/step - loss: 26.9373\n",
            "Epoch 78/100\n",
            "240/240 [==============================] - 0s 1ms/step - loss: 26.5151\n",
            "Epoch 79/100\n",
            "240/240 [==============================] - 0s 1ms/step - loss: 26.4829\n",
            "Epoch 80/100\n",
            "240/240 [==============================] - 0s 1ms/step - loss: 26.8276\n",
            "Epoch 81/100\n",
            "240/240 [==============================] - 0s 1ms/step - loss: 26.5206\n",
            "Epoch 82/100\n",
            "240/240 [==============================] - 0s 1ms/step - loss: 26.7657\n",
            "Epoch 83/100\n",
            "240/240 [==============================] - 0s 1ms/step - loss: 26.9022\n",
            "Epoch 84/100\n",
            "240/240 [==============================] - 0s 1ms/step - loss: 26.9257\n",
            "Epoch 85/100\n",
            "240/240 [==============================] - 0s 1ms/step - loss: 26.9579\n",
            "Epoch 86/100\n",
            "240/240 [==============================] - 0s 1ms/step - loss: 26.9442\n",
            "Epoch 87/100\n",
            "240/240 [==============================] - 0s 1ms/step - loss: 26.6717\n",
            "Epoch 88/100\n",
            "240/240 [==============================] - 0s 1ms/step - loss: 26.8248\n",
            "Epoch 89/100\n",
            "240/240 [==============================] - 0s 1ms/step - loss: 26.6185\n",
            "Epoch 90/100\n",
            "240/240 [==============================] - 0s 1ms/step - loss: 26.3126\n",
            "Epoch 91/100\n",
            "240/240 [==============================] - 0s 1ms/step - loss: 27.1244\n",
            "Epoch 92/100\n",
            "240/240 [==============================] - 0s 1ms/step - loss: 26.6344\n",
            "Epoch 93/100\n",
            "240/240 [==============================] - 0s 1ms/step - loss: 26.8341\n",
            "Epoch 94/100\n",
            "240/240 [==============================] - 0s 1ms/step - loss: 26.6855\n",
            "Epoch 95/100\n",
            "240/240 [==============================] - 0s 1ms/step - loss: 26.6188\n",
            "Epoch 96/100\n",
            "240/240 [==============================] - 0s 1ms/step - loss: 26.7915\n",
            "Epoch 97/100\n",
            "240/240 [==============================] - 0s 1ms/step - loss: 27.1237\n",
            "Epoch 98/100\n",
            "240/240 [==============================] - 0s 1ms/step - loss: 26.7144\n",
            "Epoch 99/100\n",
            "240/240 [==============================] - 0s 1ms/step - loss: 26.8011\n",
            "Epoch 100/100\n",
            "240/240 [==============================] - 0s 1ms/step - loss: 26.3780\n"
          ]
        },
        {
          "output_type": "execute_result",
          "data": {
            "text/plain": [
              "<keras.callbacks.History at 0x7fef397349d0>"
            ]
          },
          "metadata": {},
          "execution_count": 11
        }
      ]
    },
    {
      "cell_type": "code",
      "metadata": {
        "colab": {
          "base_uri": "https://localhost:8080/"
        },
        "id": "yr1Fxav-Gb8w",
        "outputId": "10c3bbb2-6ee7-400d-bff3-2771be24d306"
      },
      "source": [
        "# predicting the result of the test set\n",
        "\n",
        "y_pred = ann.predict(X_test)\n",
        "\n",
        "np.set_printoptions(precision=2)\n",
        "\n",
        "print(np.concatenate((y_pred.reshape(len(y_pred),1), y_test.reshape(len(y_test),1)), 1))"
      ],
      "execution_count": null,
      "outputs": [
        {
          "output_type": "stream",
          "name": "stdout",
          "text": [
            "[[432.51 431.23]\n",
            " [463.61 460.01]\n",
            " [467.13 461.14]\n",
            " ...\n",
            " [474.34 473.26]\n",
            " [441.12 438.  ]\n",
            " [460.33 463.28]]\n"
          ]
        }
      ]
    }
  ]
}